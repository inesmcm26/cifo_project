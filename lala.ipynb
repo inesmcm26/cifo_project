{
 "cells": [
  {
   "cell_type": "code",
   "execution_count": 2,
   "metadata": {},
   "outputs": [],
   "source": [
    "import itertools\n",
    "import random\n",
    "\n",
    "people = list(range(1, 5))"
   ]
  },
  {
   "cell_type": "code",
   "execution_count": 6,
   "metadata": {},
   "outputs": [],
   "source": [
    "table_combinations = itertools.combinations(people, 2)"
   ]
  },
  {
   "cell_type": "code",
   "execution_count": 7,
   "metadata": {},
   "outputs": [],
   "source": [
    "combs = itertools.combinations(table_combinations, 2)"
   ]
  },
  {
   "cell_type": "code",
   "execution_count": 8,
   "metadata": {},
   "outputs": [],
   "source": [
    "mutually_exclusive_combinations = []\n",
    "\n",
    "for combination in combs:\n",
    "    flat_combination = set(num for group in combination for num in group)\n",
    "\t\n",
    "    if len(flat_combination) == len(people): # confirm that there are no redundant solutions\n",
    "         \t\tmutually_exclusive_combinations.append(combination)"
   ]
  },
  {
   "cell_type": "code",
   "execution_count": 9,
   "metadata": {},
   "outputs": [
    {
     "data": {
      "text/plain": [
       "3"
      ]
     },
     "execution_count": 9,
     "metadata": {},
     "output_type": "execute_result"
    }
   ],
   "source": [
    "len(mutually_exclusive_combinations)"
   ]
  },
  {
   "attachments": {},
   "cell_type": "markdown",
   "metadata": {},
   "source": [
    "# New way"
   ]
  },
  {
   "cell_type": "code",
   "execution_count": 18,
   "metadata": {},
   "outputs": [],
   "source": [
    "import random"
   ]
  },
  {
   "cell_type": "code",
   "execution_count": 19,
   "metadata": {},
   "outputs": [],
   "source": [
    "pop_size = 10\n",
    "\n",
    "people = list(range(1, 7))\n",
    "\n",
    "n_tables = 3\n",
    "pp_per_table = len(people) // n_tables"
   ]
  },
  {
   "cell_type": "code",
   "execution_count": 16,
   "metadata": {},
   "outputs": [
    {
     "data": {
      "text/plain": [
       "[1, 2, 3, 4, 5, 6]"
      ]
     },
     "execution_count": 16,
     "metadata": {},
     "output_type": "execute_result"
    }
   ],
   "source": [
    "people"
   ]
  },
  {
   "cell_type": "code",
   "execution_count": 20,
   "metadata": {},
   "outputs": [
    {
     "data": {
      "text/plain": [
       "2"
      ]
     },
     "execution_count": 20,
     "metadata": {},
     "output_type": "execute_result"
    }
   ],
   "source": [
    "pp_per_table"
   ]
  },
  {
   "cell_type": "code",
   "execution_count": 17,
   "metadata": {},
   "outputs": [],
   "source": [
    "pop = set()"
   ]
  },
  {
   "cell_type": "code",
   "execution_count": 27,
   "metadata": {},
   "outputs": [
    {
     "name": "stdout",
     "output_type": "stream",
     "text": [
      "People [3, 4, 1, 2, 6, 5]\n",
      "sol construction: ([3, 4],)\n",
      "sol construction: ([3, 4], [4, 1])\n",
      "sol construction: ([3, 4], [4, 1], [1, 2])\n",
      "sol ([3, 4], [4, 1], [1, 2])\n"
     ]
    },
    {
     "ename": "TypeError",
     "evalue": "unhashable type: 'list'",
     "output_type": "error",
     "traceback": [
      "\u001b[0;31m---------------------------------------------------------------------------\u001b[0m",
      "\u001b[0;31mTypeError\u001b[0m                                 Traceback (most recent call last)",
      "Cell \u001b[0;32mIn[27], line 26\u001b[0m\n\u001b[1;32m     23\u001b[0m     \u001b[39mprint\u001b[39m(\u001b[39m'\u001b[39m\u001b[39msol\u001b[39m\u001b[39m'\u001b[39m, sol)\n\u001b[1;32m     25\u001b[0m     \u001b[39m# append sol list to pop\u001b[39;00m\n\u001b[0;32m---> 26\u001b[0m     pop\u001b[39m.\u001b[39;49madd(sol)\n\u001b[1;32m     28\u001b[0m pop\n",
      "\u001b[0;31mTypeError\u001b[0m: unhashable type: 'list'"
     ]
    }
   ],
   "source": [
    "pop_size = 10\n",
    "\n",
    "people = list(range(1, 7))\n",
    "\n",
    "n_tables = 3\n",
    "pp_per_table = len(people) // n_tables\n",
    "\n",
    "pop = set()\n",
    "\n",
    "while len(pop) < pop_size:\n",
    "    random.shuffle(people)\n",
    "\n",
    "    print('People', people)\n",
    "\n",
    "    sol = tuple()\n",
    "\n",
    "    for i in range(n_tables):\n",
    "\n",
    "        sol += ((people[i:i+pp_per_table]),)\n",
    "\n",
    "        print('sol construction:', sol)\n",
    "\n",
    "    print('sol', sol)\n",
    "\n",
    "    # append sol list to pop\n",
    "    pop.add(sol)\n",
    "\n",
    "pop\n",
    "    "
   ]
  },
  {
   "cell_type": "code",
   "execution_count": 25,
   "metadata": {},
   "outputs": [
    {
     "data": {
      "text/plain": [
       "((1, 2, 3), (3, 4, 5), (1, 2, 4))"
      ]
     },
     "execution_count": 25,
     "metadata": {},
     "output_type": "execute_result"
    }
   ],
   "source": [
    "t = tuple()\n",
    "t += ((1, 2, 3),)\n",
    "t += ((3, 4, 5),)\n",
    "t += ((1, 2, 4),)\n",
    "t"
   ]
  },
  {
   "cell_type": "code",
   "execution_count": null,
   "metadata": {},
   "outputs": [],
   "source": [
    "((1, 2, 3), (4, 5, 6), (7, 8, 9))\n",
    "((1, 3, 2), (4, 5, 6), (7, 8, 9))"
   ]
  },
  {
   "cell_type": "code",
   "execution_count": 1,
   "metadata": {},
   "outputs": [],
   "source": [
    "import random\n",
    "\n",
    "people = list(range(1, 65))\n",
    "\n",
    "pop = set()\n",
    "pop_size = 4\n",
    "pp_per_table = 8\n",
    "n_tables = len(people) // pp_per_table\n",
    "\n",
    "while len(pop) < pop_size:\n",
    "    random.shuffle(people)\n",
    "\n",
    "    tables = frozenset(frozenset(people[i:i+pp_per_table]) for i in range(0, len(people), n_tables))\n",
    "\n",
    "    pop.add(tables)"
   ]
  },
  {
   "cell_type": "code",
   "execution_count": 2,
   "metadata": {},
   "outputs": [],
   "source": [
    "from charles.charles import Individual\n",
    "\n",
    "ind1 = Individual(pop.pop())\n",
    "ind2 = Individual(pop.pop())"
   ]
  },
  {
   "cell_type": "code",
   "execution_count": 3,
   "metadata": {},
   "outputs": [
    {
     "name": "stdout",
     "output_type": "stream",
     "text": [
      "[{3, 38, 10, 11, 44, 60, 52, 28}, {6, 39, 8, 41, 9, 21, 24, 25}, {64, 34, 4, 5, 45, 49, 19, 61}, {33, 42, 43, 13, 51, 20, 56, 59}, {2, 36, 46, 48, 53, 22, 23, 27}, {35, 16, 17, 54, 55, 58, 30, 31}, {32, 1, 7, 12, 47, 18, 62, 63}, {37, 40, 14, 15, 50, 57, 26, 29}]\n",
      "[{32, 35, 40, 8, 12, 51, 22, 24}, {9, 19, 52, 21, 53, 56, 28, 31}, {33, 34, 37, 44, 48, 54, 29, 30}, {2, 42, 43, 13, 47, 17, 18, 55}, {1, 39, 46, 14, 49, 23, 58, 27}, {7, 45, 15, 25, 26, 60, 61, 57}, {64, 36, 38, 10, 16, 50, 59, 63}, {3, 4, 5, 6, 41, 11, 20, 62}]\n"
     ]
    }
   ],
   "source": [
    "print(ind1)\n",
    "print(ind2)"
   ]
  },
  {
   "cell_type": "code",
   "execution_count": 4,
   "metadata": {},
   "outputs": [
    {
     "name": "stdout",
     "output_type": "stream",
     "text": [
      "[{3, 38, 10, 11, 44, 60, 52, 28}, {6, 39, 8, 41, 9, 21, 24, 25}, {64, 34, 4, 5, 45, 49, 19, 61}, {33, 42, 43, 13, 51, 20, 56, 59}, {2, 36, 46, 48, 53, 22, 23, 27}, {32, 16, 17, 54, 55, 58, 30, 31}, {1, 35, 7, 12, 47, 18, 62, 63}, {37, 40, 14, 15, 50, 57, 26, 29}]\n"
     ]
    }
   ],
   "source": [
    "from charles.crossover import gbx_crossover\n",
    "from charles.mutation import swap_mutation\n",
    "\n",
    "ind = swap_mutation(ind1)\n",
    "\n",
    "print(ind)"
   ]
  },
  {
   "cell_type": "code",
   "execution_count": 28,
   "metadata": {},
   "outputs": [
    {
     "data": {
      "text/html": [
       "<div>\n",
       "<style scoped>\n",
       "    .dataframe tbody tr th:only-of-type {\n",
       "        vertical-align: middle;\n",
       "    }\n",
       "\n",
       "    .dataframe tbody tr th {\n",
       "        vertical-align: top;\n",
       "    }\n",
       "\n",
       "    .dataframe thead th {\n",
       "        text-align: right;\n",
       "    }\n",
       "</style>\n",
       "<table border=\"1\" class=\"dataframe\">\n",
       "  <thead>\n",
       "    <tr style=\"text-align: right;\">\n",
       "      <th></th>\n",
       "      <th>ola</th>\n",
       "    </tr>\n",
       "  </thead>\n",
       "  <tbody>\n",
       "    <tr>\n",
       "      <th>0</th>\n",
       "      <td>2</td>\n",
       "    </tr>\n",
       "    <tr>\n",
       "      <th>1</th>\n",
       "      <td>6</td>\n",
       "    </tr>\n",
       "    <tr>\n",
       "      <th>2</th>\n",
       "      <td>5</td>\n",
       "    </tr>\n",
       "    <tr>\n",
       "      <th>3</th>\n",
       "      <td>10</td>\n",
       "    </tr>\n",
       "    <tr>\n",
       "      <th>4</th>\n",
       "      <td>45</td>\n",
       "    </tr>\n",
       "    <tr>\n",
       "      <th>5</th>\n",
       "      <td>78</td>\n",
       "    </tr>\n",
       "  </tbody>\n",
       "</table>\n",
       "</div>"
      ],
      "text/plain": [
       "   ola\n",
       "0    2\n",
       "1    6\n",
       "2    5\n",
       "3   10\n",
       "4   45\n",
       "5   78"
      ]
     },
     "execution_count": 28,
     "metadata": {},
     "output_type": "execute_result"
    }
   ],
   "source": [
    "fitness_history = [2, 6, 5, 10, 45, 78]\n",
    "\n",
    "import pandas as pd\n",
    "\n",
    "df = pd.DataFrame()\n",
    "\n",
    "df['ola'] = fitness_history\n",
    "\n",
    "df"
   ]
  },
  {
   "cell_type": "code",
   "execution_count": 29,
   "metadata": {},
   "outputs": [],
   "source": [
    "df['adeus'] = [5, 7, 2, 5, 7, 2]"
   ]
  },
  {
   "cell_type": "code",
   "execution_count": 30,
   "metadata": {},
   "outputs": [
    {
     "data": {
      "text/html": [
       "<div>\n",
       "<style scoped>\n",
       "    .dataframe tbody tr th:only-of-type {\n",
       "        vertical-align: middle;\n",
       "    }\n",
       "\n",
       "    .dataframe tbody tr th {\n",
       "        vertical-align: top;\n",
       "    }\n",
       "\n",
       "    .dataframe thead th {\n",
       "        text-align: right;\n",
       "    }\n",
       "</style>\n",
       "<table border=\"1\" class=\"dataframe\">\n",
       "  <thead>\n",
       "    <tr style=\"text-align: right;\">\n",
       "      <th></th>\n",
       "      <th>ola</th>\n",
       "      <th>adeus</th>\n",
       "    </tr>\n",
       "  </thead>\n",
       "  <tbody>\n",
       "    <tr>\n",
       "      <th>0</th>\n",
       "      <td>2</td>\n",
       "      <td>5</td>\n",
       "    </tr>\n",
       "    <tr>\n",
       "      <th>1</th>\n",
       "      <td>6</td>\n",
       "      <td>7</td>\n",
       "    </tr>\n",
       "    <tr>\n",
       "      <th>2</th>\n",
       "      <td>5</td>\n",
       "      <td>2</td>\n",
       "    </tr>\n",
       "    <tr>\n",
       "      <th>3</th>\n",
       "      <td>10</td>\n",
       "      <td>5</td>\n",
       "    </tr>\n",
       "    <tr>\n",
       "      <th>4</th>\n",
       "      <td>45</td>\n",
       "      <td>7</td>\n",
       "    </tr>\n",
       "    <tr>\n",
       "      <th>5</th>\n",
       "      <td>78</td>\n",
       "      <td>2</td>\n",
       "    </tr>\n",
       "  </tbody>\n",
       "</table>\n",
       "</div>"
      ],
      "text/plain": [
       "   ola  adeus\n",
       "0    2      5\n",
       "1    6      7\n",
       "2    5      2\n",
       "3   10      5\n",
       "4   45      7\n",
       "5   78      2"
      ]
     },
     "execution_count": 30,
     "metadata": {},
     "output_type": "execute_result"
    }
   ],
   "source": [
    "df"
   ]
  },
  {
   "cell_type": "code",
   "execution_count": 31,
   "metadata": {},
   "outputs": [
    {
     "data": {
      "text/plain": [
       "0     3.5\n",
       "1     6.5\n",
       "2     3.5\n",
       "3     7.5\n",
       "4    26.0\n",
       "5    40.0\n",
       "dtype: float64"
      ]
     },
     "execution_count": 31,
     "metadata": {},
     "output_type": "execute_result"
    }
   ],
   "source": [
    "df.mean(axis=1)"
   ]
  },
  {
   "cell_type": "code",
   "execution_count": null,
   "metadata": {},
   "outputs": [],
   "source": [
    "from charles.charles import Population\n",
    "from charles.selection import tournament_selection\n",
    "from charles.crossover import my_custom_crossover\n",
    "from charles.mutation import dream_team\n",
    "\n",
    "pop = Population(pop_size = 100, nr_guests = 64, nr_tables = 8)\n",
    "\n",
    "pop.evolve(n_generations = 70, xo_prob = 0.9, mut_prob = 0.1, select = tournament_selection,\n",
    "           crossover = my_custom_crossover, mutate = dream_team, elitism = False)"
   ]
  }
 ],
 "metadata": {
  "kernelspec": {
   "display_name": "functionalenv",
   "language": "python",
   "name": "python3"
  },
  "language_info": {
   "codemirror_mode": {
    "name": "ipython",
    "version": 3
   },
   "file_extension": ".py",
   "mimetype": "text/x-python",
   "name": "python",
   "nbconvert_exporter": "python",
   "pygments_lexer": "ipython3",
   "version": "3.9.16"
  },
  "orig_nbformat": 4
 },
 "nbformat": 4,
 "nbformat_minor": 2
}
